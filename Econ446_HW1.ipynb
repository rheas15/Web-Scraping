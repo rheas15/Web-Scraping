{
 "cells": [
  {
   "cell_type": "markdown",
   "id": "78ac1fe5",
   "metadata": {
    "id": "0cc9be4a"
   },
   "source": [
    "# Web Scraping: BeautifulSoup, RegEx and Selenium \n",
    "\n",
    "\n"
   ]
  },
  {
   "cell_type": "code",
   "execution_count": 1,
   "id": "17a188b7",
   "metadata": {
    "id": "17a188b7"
   },
   "outputs": [],
   "source": [
    "from bs4 import BeautifulSoup\n",
    "import requests\n",
    "import pandas as pd\n",
    "from string import ascii_uppercase as alc"
   ]
  },
  {
   "cell_type": "markdown",
   "id": "a746379b",
   "metadata": {
    "id": "a746379b"
   },
   "source": [
    "## 1.) Web Crawling Tables"
   ]
  },
  {
   "cell_type": "markdown",
   "id": "1c9c053e",
   "metadata": {
    "id": "1c9c053e"
   },
   "source": [
    "### 1.A.) Create a list of links for all the wikipedia pages for NYSE traded companies A-Z and 0-9"
   ]
  },
  {
   "cell_type": "code",
   "execution_count": 2,
   "id": "cacb8e3d",
   "metadata": {
    "id": "cacb8e3d"
   },
   "outputs": [],
   "source": [
    "URL = \"https://en.wikipedia.org/wiki/Companies_listed_on_the_New_York_Stock_Exchange_(A)\""
   ]
  },
  {
   "cell_type": "code",
   "execution_count": 3,
   "id": "658e0fac",
   "metadata": {
    "id": "658e0fac"
   },
   "outputs": [],
   "source": [
    "# Importing module to iterate through the alphabet\n",
    "from string import ascii_uppercase as alc"
   ]
  },
  {
   "cell_type": "code",
   "execution_count": 4,
   "id": "590e9c00",
   "metadata": {
    "colab": {
     "base_uri": "https://localhost:8080/"
    },
    "id": "590e9c00",
    "outputId": "a0382ebf-dc1a-4827-a5a0-f2cc1a851ecd"
   },
   "outputs": [
    {
     "data": {
      "text/plain": [
       "['https://en.wikipedia.org/wiki/Companies_listed_on_the_New_York_Stock_Exchange_(A)',\n",
       " 'https://en.wikipedia.org/wiki/Companies_listed_on_the_New_York_Stock_Exchange_(B)',\n",
       " 'https://en.wikipedia.org/wiki/Companies_listed_on_the_New_York_Stock_Exchange_(C)',\n",
       " 'https://en.wikipedia.org/wiki/Companies_listed_on_the_New_York_Stock_Exchange_(D)',\n",
       " 'https://en.wikipedia.org/wiki/Companies_listed_on_the_New_York_Stock_Exchange_(E)',\n",
       " 'https://en.wikipedia.org/wiki/Companies_listed_on_the_New_York_Stock_Exchange_(F)',\n",
       " 'https://en.wikipedia.org/wiki/Companies_listed_on_the_New_York_Stock_Exchange_(G)',\n",
       " 'https://en.wikipedia.org/wiki/Companies_listed_on_the_New_York_Stock_Exchange_(H)',\n",
       " 'https://en.wikipedia.org/wiki/Companies_listed_on_the_New_York_Stock_Exchange_(I)',\n",
       " 'https://en.wikipedia.org/wiki/Companies_listed_on_the_New_York_Stock_Exchange_(J)',\n",
       " 'https://en.wikipedia.org/wiki/Companies_listed_on_the_New_York_Stock_Exchange_(K)',\n",
       " 'https://en.wikipedia.org/wiki/Companies_listed_on_the_New_York_Stock_Exchange_(L)',\n",
       " 'https://en.wikipedia.org/wiki/Companies_listed_on_the_New_York_Stock_Exchange_(M)',\n",
       " 'https://en.wikipedia.org/wiki/Companies_listed_on_the_New_York_Stock_Exchange_(N)',\n",
       " 'https://en.wikipedia.org/wiki/Companies_listed_on_the_New_York_Stock_Exchange_(O)',\n",
       " 'https://en.wikipedia.org/wiki/Companies_listed_on_the_New_York_Stock_Exchange_(P)',\n",
       " 'https://en.wikipedia.org/wiki/Companies_listed_on_the_New_York_Stock_Exchange_(Q)',\n",
       " 'https://en.wikipedia.org/wiki/Companies_listed_on_the_New_York_Stock_Exchange_(R)',\n",
       " 'https://en.wikipedia.org/wiki/Companies_listed_on_the_New_York_Stock_Exchange_(S)',\n",
       " 'https://en.wikipedia.org/wiki/Companies_listed_on_the_New_York_Stock_Exchange_(T)',\n",
       " 'https://en.wikipedia.org/wiki/Companies_listed_on_the_New_York_Stock_Exchange_(U)',\n",
       " 'https://en.wikipedia.org/wiki/Companies_listed_on_the_New_York_Stock_Exchange_(V)',\n",
       " 'https://en.wikipedia.org/wiki/Companies_listed_on_the_New_York_Stock_Exchange_(W)',\n",
       " 'https://en.wikipedia.org/wiki/Companies_listed_on_the_New_York_Stock_Exchange_(X)',\n",
       " 'https://en.wikipedia.org/wiki/Companies_listed_on_the_New_York_Stock_Exchange_(Y)',\n",
       " 'https://en.wikipedia.org/wiki/Companies_listed_on_the_New_York_Stock_Exchange_(Z)',\n",
       " 'https://en.wikipedia.org/wiki/Companies_listed_on_the_New_York_Stock_Exchange_(0–9)']"
      ]
     },
     "execution_count": 4,
     "metadata": {},
     "output_type": "execute_result"
    }
   ],
   "source": [
    "# For A-Z\n",
    "URL_list = []\n",
    "\n",
    "for i in alc:\n",
    "    URL = f\"https://en.wikipedia.org/wiki/Companies_listed_on_the_New_York_Stock_Exchange_({i})\"\n",
    "    URL_list.append(URL)\n",
    "    \n",
    "# For 0-9\n",
    "URL_list.append(\"https://en.wikipedia.org/wiki/Companies_listed_on_the_New_York_Stock_Exchange_(0–9)\")\n",
    "\n",
    "# Print final list of links\n",
    "URL_list"
   ]
  },
  {
   "cell_type": "markdown",
   "id": "6efc32e3",
   "metadata": {
    "id": "6efc32e3"
   },
   "source": [
    "### 1.B.) Crawl through all the URLs and make 1 DF with all the NYSE publically traded companies"
   ]
  },
  {
   "cell_type": "code",
   "execution_count": 5,
   "id": "d8c9b13c",
   "metadata": {
    "id": "d8c9b13c"
   },
   "outputs": [],
   "source": [
    "# Initializing empty dataframe\n",
    "company_table = pd.DataFrame()\n",
    "\n",
    "# Looping through URL list to crawl tables\n",
    "for i in URL_list:\n",
    "    url = i \n",
    "    html = requests.get(url).content\n",
    "    df_list = pd.read_html(html)\n",
    "    company_table = pd.concat([company_table, df_list[1]])"
   ]
  },
  {
   "cell_type": "code",
   "execution_count": 6,
   "id": "33fdbfd7",
   "metadata": {
    "colab": {
     "base_uri": "https://localhost:8080/",
     "height": 419
    },
    "id": "33fdbfd7",
    "outputId": "4e01eeea-d656-433f-c2d3-076fe62258b1"
   },
   "outputs": [
    {
     "data": {
      "text/html": [
       "<div>\n",
       "<style scoped>\n",
       "    .dataframe tbody tr th:only-of-type {\n",
       "        vertical-align: middle;\n",
       "    }\n",
       "\n",
       "    .dataframe tbody tr th {\n",
       "        vertical-align: top;\n",
       "    }\n",
       "\n",
       "    .dataframe thead th {\n",
       "        text-align: right;\n",
       "    }\n",
       "</style>\n",
       "<table border=\"1\" class=\"dataframe\">\n",
       "  <thead>\n",
       "    <tr style=\"text-align: right;\">\n",
       "      <th></th>\n",
       "      <th>Stock name</th>\n",
       "      <th>Symbol</th>\n",
       "      <th>Country of origin</th>\n",
       "    </tr>\n",
       "  </thead>\n",
       "  <tbody>\n",
       "    <tr>\n",
       "      <th>0</th>\n",
       "      <td>A. O. Smith Corporation</td>\n",
       "      <td>AOS</td>\n",
       "      <td>US</td>\n",
       "    </tr>\n",
       "    <tr>\n",
       "      <th>1</th>\n",
       "      <td>A10 Networks, Inc.</td>\n",
       "      <td>ATEN</td>\n",
       "      <td>US</td>\n",
       "    </tr>\n",
       "    <tr>\n",
       "      <th>2</th>\n",
       "      <td>AAC Holdings Inc.</td>\n",
       "      <td>AAC</td>\n",
       "      <td>US</td>\n",
       "    </tr>\n",
       "    <tr>\n",
       "      <th>3</th>\n",
       "      <td>AAR Corporation</td>\n",
       "      <td>AIR</td>\n",
       "      <td>US</td>\n",
       "    </tr>\n",
       "    <tr>\n",
       "      <th>4</th>\n",
       "      <td>Aaron's Inc.</td>\n",
       "      <td>AAN</td>\n",
       "      <td>US</td>\n",
       "    </tr>\n",
       "    <tr>\n",
       "      <th>...</th>\n",
       "      <td>...</td>\n",
       "      <td>...</td>\n",
       "      <td>...</td>\n",
       "    </tr>\n",
       "    <tr>\n",
       "      <th>0</th>\n",
       "      <td>3D Systems Corporation</td>\n",
       "      <td>DDD</td>\n",
       "      <td>US</td>\n",
       "    </tr>\n",
       "    <tr>\n",
       "      <th>1</th>\n",
       "      <td>3M Company</td>\n",
       "      <td>MMM</td>\n",
       "      <td>US</td>\n",
       "    </tr>\n",
       "    <tr>\n",
       "      <th>2</th>\n",
       "      <td>500.com</td>\n",
       "      <td>WBAI</td>\n",
       "      <td>China</td>\n",
       "    </tr>\n",
       "    <tr>\n",
       "      <th>3</th>\n",
       "      <td>58.com Inc.</td>\n",
       "      <td>WUBA</td>\n",
       "      <td>China</td>\n",
       "    </tr>\n",
       "    <tr>\n",
       "      <th>4</th>\n",
       "      <td>8x8 Inc.</td>\n",
       "      <td>EGHT</td>\n",
       "      <td>US</td>\n",
       "    </tr>\n",
       "  </tbody>\n",
       "</table>\n",
       "<p>2723 rows × 3 columns</p>\n",
       "</div>"
      ],
      "text/plain": [
       "                 Stock name Symbol Country of origin\n",
       "0   A. O. Smith Corporation    AOS                US\n",
       "1        A10 Networks, Inc.   ATEN                US\n",
       "2         AAC Holdings Inc.    AAC                US\n",
       "3           AAR Corporation    AIR                US\n",
       "4              Aaron's Inc.    AAN                US\n",
       "..                      ...    ...               ...\n",
       "0    3D Systems Corporation    DDD                US\n",
       "1                3M Company    MMM                US\n",
       "2                   500.com   WBAI             China\n",
       "3               58.com Inc.   WUBA             China\n",
       "4                  8x8 Inc.   EGHT                US\n",
       "\n",
       "[2723 rows x 3 columns]"
      ]
     },
     "execution_count": 6,
     "metadata": {},
     "output_type": "execute_result"
    }
   ],
   "source": [
    "# Dataframe with all publicly traded companies\n",
    "company_table"
   ]
  },
  {
   "cell_type": "markdown",
   "id": "4290fd74",
   "metadata": {
    "id": "4290fd74"
   },
   "source": [
    "### 1.C.) Calculate percetage of companies that contain 1 letter, 2 letters, 3 letters, 4 letters and 5 letters in the ticker"
   ]
  },
  {
   "cell_type": "code",
   "execution_count": 7,
   "id": "498afb3a",
   "metadata": {
    "id": "498afb3a"
   },
   "outputs": [],
   "source": [
    "# Creating a column for ticker length\n",
    "company_table['ticker_length'] = company_table['Symbol'].apply(len)"
   ]
  },
  {
   "cell_type": "code",
   "execution_count": 8,
   "id": "e9af6842",
   "metadata": {
    "id": "e9af6842"
   },
   "outputs": [],
   "source": [
    "# Grouping by ticker length to get number of companies for each length\n",
    "group = company_table.groupby(\"ticker_length\")[\"Stock name\"].count()"
   ]
  },
  {
   "cell_type": "code",
   "execution_count": 9,
   "id": "oovpf92s2iKE",
   "metadata": {
    "colab": {
     "base_uri": "https://localhost:8080/"
    },
    "id": "oovpf92s2iKE",
    "outputId": "ce7bdc72-b6d5-48d9-c885-4b4eabd54105"
   },
   "outputs": [
    {
     "data": {
      "text/plain": [
       "ticker_length\n",
       "1       24\n",
       "2      190\n",
       "3     1775\n",
       "4      404\n",
       "5       22\n",
       "6       45\n",
       "7      223\n",
       "8       35\n",
       "9        2\n",
       "11       2\n",
       "13       1\n",
       "Name: Stock name, dtype: int64"
      ]
     },
     "execution_count": 9,
     "metadata": {},
     "output_type": "execute_result"
    }
   ],
   "source": [
    "group"
   ]
  },
  {
   "cell_type": "code",
   "execution_count": 10,
   "id": "XVvX7Yxw2oLz",
   "metadata": {
    "colab": {
     "base_uri": "https://localhost:8080/"
    },
    "id": "XVvX7Yxw2oLz",
    "outputId": "826583ff-3336-4fe7-c394-60e76741bb35"
   },
   "outputs": [
    {
     "data": {
      "text/plain": [
       "ticker_length\n",
       "1     0.881381\n",
       "2     6.977598\n",
       "3    65.185457\n",
       "4    14.836577\n",
       "5     0.807932\n",
       "Name: Stock name, dtype: float64"
      ]
     },
     "execution_count": 10,
     "metadata": {},
     "output_type": "execute_result"
    }
   ],
   "source": [
    "# Calculating and Printing percentage of companies for first 5 lengths of tickers\n",
    "group[:5]/len(company_table)*100"
   ]
  },
  {
   "cell_type": "markdown",
   "id": "6a2ef18b",
   "metadata": {
    "id": "6a2ef18b"
   },
   "source": [
    "## 2.) Web Scraping Using Beautiful Soup"
   ]
  },
  {
   "cell_type": "markdown",
   "id": "bf558ab0",
   "metadata": {
    "id": "bf558ab0"
   },
   "source": [
    "### 2.A.) Using Beautiful soup .findAll method, webscrape the front page of Reddit. Get a list of all of the \"timestamps\""
   ]
  },
  {
   "cell_type": "code",
   "execution_count": 11,
   "id": "486d042e",
   "metadata": {
    "id": "486d042e"
   },
   "outputs": [],
   "source": [
    "URL = \"https://www.reddit.com\""
   ]
  },
  {
   "cell_type": "code",
   "execution_count": 12,
   "id": "4LbvfuFu9dZD",
   "metadata": {
    "id": "4LbvfuFu9dZD"
   },
   "outputs": [],
   "source": [
    "user_agent_list = [\"Mozilla/5.0 (Windows NT 10.0; Win64; x64) AppleWebKit/537.36 (KHTML, like Gecko) Chrome/42.0.2311.135 Safari/537.36 Edge/12.246\" \n",
    ",\"Mozilla/5.0 (Windows NT 6.1; WOW64) AppleWebKit/537.36 (KHTML, like Gecko) Chrome/47.0.2526.111 Safari/537.36 \"\n",
    ",\"Mozilla/5.0 (Macintosh; Intel Mac OS X 10_11_2) AppleWebKit/601.3.9 (KHTML, like Gecko) Version/9.0.2 Safari/601.3.9 \"\n",
    ",\"Mozilla/5.0 (X11; Ubuntu; Linux x86_64; rv:15.0) Gecko/20100101 Firefox/15.0.1\" \n",
    ",\"Mozilla/5.0 (X11; CrOS x86_64 8172.45.0) AppleWebKit/537.36 (KHTML, like Gecko) Chrome/51.0.2704.64 Safari/537.36\"] \n",
    "\n",
    "headers = {\n",
    "    'User-Agent': user_agent_list[2]}"
   ]
  },
  {
   "cell_type": "code",
   "execution_count": 13,
   "id": "BSqu31M29dja",
   "metadata": {
    "id": "BSqu31M29dja"
   },
   "outputs": [],
   "source": [
    "URL = \"https://www.reddit.com\"\n",
    "page = requests.get(URL, headers = headers)"
   ]
  },
  {
   "cell_type": "code",
   "execution_count": 14,
   "id": "icQpp-Ul9dmR",
   "metadata": {
    "id": "icQpp-Ul9dmR"
   },
   "outputs": [],
   "source": [
    "# Using beautiful soup to get the page's html content\n",
    "soup = BeautifulSoup(page.content, \"html.parser\")"
   ]
  },
  {
   "cell_type": "code",
   "execution_count": 15,
   "id": "G4C-8qef9drf",
   "metadata": {
    "id": "G4C-8qef9drf"
   },
   "outputs": [],
   "source": [
    "# Using span tag with data-click-id attribute to get timestamps\n",
    "timestamps = soup.findAll(\"span\",\n",
    "                     attrs = {\"data-click-id\":\"timestamp\"})"
   ]
  },
  {
   "cell_type": "code",
   "execution_count": 16,
   "id": "w8PJEsc_9tSC",
   "metadata": {
    "id": "w8PJEsc_9tSC"
   },
   "outputs": [],
   "source": [
    "#Extracting text from timestamps\n",
    "clean_t = [t.text for t in timestamps]"
   ]
  },
  {
   "cell_type": "code",
   "execution_count": 17,
   "id": "hVZYdDSJ9tYv",
   "metadata": {
    "colab": {
     "base_uri": "https://localhost:8080/"
    },
    "id": "hVZYdDSJ9tYv",
    "outputId": "43fe841d-ff88-4ae9-9e4a-13396d34550d"
   },
   "outputs": [
    {
     "data": {
      "text/plain": [
       "['17 hours ago',\n",
       " '5 hours ago',\n",
       " '5 hours ago',\n",
       " '5 hours ago',\n",
       " '12 hours ago',\n",
       " '9 hours ago',\n",
       " '5 hours ago']"
      ]
     },
     "execution_count": 17,
     "metadata": {},
     "output_type": "execute_result"
    }
   ],
   "source": [
    "clean_t"
   ]
  },
  {
   "cell_type": "markdown",
   "id": "269d9855",
   "metadata": {
    "id": "269d9855"
   },
   "source": [
    "### 2.B.) Using the functions findChild, descendants, etc. locate the post title and store in a list."
   ]
  },
  {
   "cell_type": "code",
   "execution_count": 19,
   "id": "gUKqj2ZQyLAu",
   "metadata": {
    "id": "gUKqj2ZQyLAu"
   },
   "outputs": [],
   "source": [
    "# Using parent tag \"div\" with specified class \n",
    "tags = soup.findAll(\"div\", class_=\"_2SdHzo12ISmrC8H86TgSCp _3wqmjmv3tb_k-PROt7qFZe\")\n",
    "post_titles = []\n",
    "\n",
    "for tag in tags:\n",
    "    # Finding child \"h3\" to locate titles\n",
    "    post_title_tag = tag.findChild(\"h3\")\n",
    "    post_title = post_title_tag.text\n",
    "    post_titles.append(post_title)"
   ]
  },
  {
   "cell_type": "code",
   "execution_count": 21,
   "id": "d9c34ac2",
   "metadata": {},
   "outputs": [
    {
     "data": {
      "text/plain": [
       "['My dad does this to avoid cutting pepperoni',\n",
       " 'As Hollywood strike looms, five writers share their stories. Subscribe to the L.A. Times.',\n",
       " \"which actor is an immediate turn off whenever they're announced in a movie?\",\n",
       " 'HOW MANY SUPREME COURT SEATS HAVE BEEN PUT UP FOR SALE?',\n",
       " 'I found a grandfather clock at a thrift store and painted it',\n",
       " 'The incels are out in force today.',\n",
       " '13-year-old Ukrainian singer refuses to share stage with Russian performer at Sanremo Junior Festival',\n",
       " 'Mind blown.']"
      ]
     },
     "execution_count": 21,
     "metadata": {},
     "output_type": "execute_result"
    }
   ],
   "source": [
    "#List of titles\n",
    "post_titles"
   ]
  },
  {
   "cell_type": "markdown",
   "id": "c6115ce9",
   "metadata": {
    "id": "c6115ce9"
   },
   "source": [
    "### 2.C.) Create a dataframe that has the associated title and post time for each post."
   ]
  },
  {
   "cell_type": "markdown",
   "id": "92ffeb8b",
   "metadata": {},
   "source": [
    "We see a length mismatch as there is one title which is a promoted advertisement with no associated time stamp, hence we drop that from our list of titles and then create a dataframe."
   ]
  },
  {
   "cell_type": "code",
   "execution_count": 22,
   "id": "zk5kHUDc30Ti",
   "metadata": {
    "id": "zk5kHUDc30Ti"
   },
   "outputs": [],
   "source": [
    "post_titles.remove(\"As Hollywood strike looms, five writers share their stories. Subscribe to the L.A. Times.\")"
   ]
  },
  {
   "cell_type": "code",
   "execution_count": 23,
   "id": "e0b791b7",
   "metadata": {
    "id": "e0b791b7"
   },
   "outputs": [],
   "source": [
    "reddit_df = pd.DataFrame({\"Title\": post_titles, \"Post time\": clean_t })"
   ]
  },
  {
   "cell_type": "code",
   "execution_count": 24,
   "id": "b603fe4e",
   "metadata": {
    "id": "b603fe4e"
   },
   "outputs": [
    {
     "data": {
      "text/html": [
       "<div>\n",
       "<style scoped>\n",
       "    .dataframe tbody tr th:only-of-type {\n",
       "        vertical-align: middle;\n",
       "    }\n",
       "\n",
       "    .dataframe tbody tr th {\n",
       "        vertical-align: top;\n",
       "    }\n",
       "\n",
       "    .dataframe thead th {\n",
       "        text-align: right;\n",
       "    }\n",
       "</style>\n",
       "<table border=\"1\" class=\"dataframe\">\n",
       "  <thead>\n",
       "    <tr style=\"text-align: right;\">\n",
       "      <th></th>\n",
       "      <th>Title</th>\n",
       "      <th>Post time</th>\n",
       "    </tr>\n",
       "  </thead>\n",
       "  <tbody>\n",
       "    <tr>\n",
       "      <th>0</th>\n",
       "      <td>My dad does this to avoid cutting pepperoni</td>\n",
       "      <td>17 hours ago</td>\n",
       "    </tr>\n",
       "    <tr>\n",
       "      <th>1</th>\n",
       "      <td>which actor is an immediate turn off whenever ...</td>\n",
       "      <td>5 hours ago</td>\n",
       "    </tr>\n",
       "    <tr>\n",
       "      <th>2</th>\n",
       "      <td>HOW MANY SUPREME COURT SEATS HAVE BEEN PUT UP ...</td>\n",
       "      <td>5 hours ago</td>\n",
       "    </tr>\n",
       "    <tr>\n",
       "      <th>3</th>\n",
       "      <td>I found a grandfather clock at a thrift store ...</td>\n",
       "      <td>5 hours ago</td>\n",
       "    </tr>\n",
       "    <tr>\n",
       "      <th>4</th>\n",
       "      <td>The incels are out in force today.</td>\n",
       "      <td>12 hours ago</td>\n",
       "    </tr>\n",
       "    <tr>\n",
       "      <th>5</th>\n",
       "      <td>13-year-old Ukrainian singer refuses to share ...</td>\n",
       "      <td>9 hours ago</td>\n",
       "    </tr>\n",
       "    <tr>\n",
       "      <th>6</th>\n",
       "      <td>Mind blown.</td>\n",
       "      <td>5 hours ago</td>\n",
       "    </tr>\n",
       "  </tbody>\n",
       "</table>\n",
       "</div>"
      ],
      "text/plain": [
       "                                               Title     Post time\n",
       "0        My dad does this to avoid cutting pepperoni  17 hours ago\n",
       "1  which actor is an immediate turn off whenever ...   5 hours ago\n",
       "2  HOW MANY SUPREME COURT SEATS HAVE BEEN PUT UP ...   5 hours ago\n",
       "3  I found a grandfather clock at a thrift store ...   5 hours ago\n",
       "4                 The incels are out in force today.  12 hours ago\n",
       "5  13-year-old Ukrainian singer refuses to share ...   9 hours ago\n",
       "6                                        Mind blown.   5 hours ago"
      ]
     },
     "execution_count": 24,
     "metadata": {},
     "output_type": "execute_result"
    }
   ],
   "source": [
    "reddit_df"
   ]
  },
  {
   "cell_type": "markdown",
   "id": "fd92ff4f",
   "metadata": {
    "id": "fd92ff4f"
   },
   "source": [
    "## 3.) RegEx"
   ]
  },
  {
   "cell_type": "markdown",
   "id": "ecb63deb",
   "metadata": {
    "id": "ecb63deb"
   },
   "source": [
    "### 3.A.) Using RegEx, get all the urls of ladder faculty profiles for UCLA Economics"
   ]
  },
  {
   "cell_type": "code",
   "execution_count": 29,
   "id": "GAz2rYeI02JV",
   "metadata": {
    "id": "GAz2rYeI02JV"
   },
   "outputs": [],
   "source": [
    "import re"
   ]
  },
  {
   "cell_type": "code",
   "execution_count": 30,
   "id": "14f85363",
   "metadata": {
    "id": "14f85363"
   },
   "outputs": [],
   "source": [
    "URL = \"https://economics.ucla.edu/faculty/ladder\""
   ]
  },
  {
   "cell_type": "code",
   "execution_count": 33,
   "id": "dr-jmUvj-r-l",
   "metadata": {
    "colab": {
     "base_uri": "https://localhost:8080/"
    },
    "id": "dr-jmUvj-r-l",
    "outputId": "59d10b61-b341-4ac2-9a7a-a0fe08419443"
   },
   "outputs": [
    {
     "data": {
      "text/plain": [
       "['https://economics.ucla.edu/person/john-asker/',\n",
       " 'https://economics.ucla.edu/person/andrew-atkeson/',\n",
       " 'https://economics.ucla.edu/person/martha-bailey/',\n",
       " 'https://economics.ucla.edu/person/david-baqaee/',\n",
       " 'https://economics.ucla.edu/person/natalie-bau/',\n",
       " 'https://economics.ucla.edu/person/saki-bigio/',\n",
       " 'https://economics.ucla.edu/person/alexander-bloedel/',\n",
       " 'https://economics.ucla.edu/person/simon-board/',\n",
       " 'https://economics.ucla.edu/person/ariel-burstein/',\n",
       " 'https://economics.ucla.edu/person/denis-chetverikov/',\n",
       " 'https://economics.ucla.edu/person/dora-costa/',\n",
       " 'https://economics.ucla.edu/person/pablo-fajgelbaum/',\n",
       " 'https://economics.ucla.edu/person/francois-geerolf/',\n",
       " 'https://economics.ucla.edu/person/michela-giorcelli/',\n",
       " 'https://economics.ucla.edu/person/felipe-goncalves/',\n",
       " 'https://economics.ucla.edu/person/daniel-haanwinckel/',\n",
       " 'https://economics.ucla.edu/person/martin-b-hackmann/',\n",
       " 'https://economics.ucla.edu/person/jinyong-hahn/',\n",
       " 'https://economics.ucla.edu/person/gary-d-hansen/',\n",
       " 'https://economics.ucla.edu/person/hugo-hopenhayn/',\n",
       " 'https://economics.ucla.edu/person/oleg-itskhoki/',\n",
       " 'https://economics.ucla.edu/person/zhipeng-liao/',\n",
       " 'https://economics.ucla.edu/person/adriana-lleras-muney/',\n",
       " 'https://economics.ucla.edu/person/juliana-londono-velez/',\n",
       " 'https://economics.ucla.edu/person/jay-lu/',\n",
       " 'https://economics.ucla.edu/person/rosa-liliana-matzkin/',\n",
       " 'https://economics.ucla.edu/person/maurizio-mazzocco/',\n",
       " 'https://economics.ucla.edu/person/kathleen-mcgarry/',\n",
       " 'https://economics.ucla.edu/person/moritz-meyer-ter-vehn/',\n",
       " 'https://economics.ucla.edu/person/ichiro-obara/',\n",
       " 'https://economics.ucla.edu/person/lee-e-ohanian/',\n",
       " 'https://economics.ucla.edu/person/sule-ozler/',\n",
       " 'https://economics.ucla.edu/person/rodrigo-pinto/',\n",
       " 'https://economics.ucla.edu/person/will-rafey/',\n",
       " 'https://economics.ucla.edu/person/michael-rubens/',\n",
       " 'https://economics.ucla.edu/person/tomasz-sadzik/',\n",
       " 'https://economics.ucla.edu/person/andres-santos/',\n",
       " 'https://economics.ucla.edu/person/yotam-shem-tov/',\n",
       " 'https://economics.ucla.edu/person/shuyang-sheng/',\n",
       " 'https://economics.ucla.edu/person/bernardo-s-silveira/',\n",
       " 'https://economics.ucla.edu/person/aaron-tornell/',\n",
       " 'https://economics.ucla.edu/person/jonathan-vogel/',\n",
       " 'https://economics.ucla.edu/person/till-von-wachter/',\n",
       " 'https://economics.ucla.edu/person/pierre-olivier-weill/',\n",
       " 'https://economics.ucla.edu/person/william-r-zame/']"
      ]
     },
     "execution_count": 33,
     "metadata": {},
     "output_type": "execute_result"
    }
   ],
   "source": [
    "url = 'https://economics.ucla.edu/faculty/ladder'\n",
    "response = requests.get(url)\n",
    "html_content = response.text\n",
    "\n",
    "# Regex pattern for URLs\n",
    "pattern = r'<a href=\"(https://economics\\.ucla\\.edu/person/[a-z\\-]+/)\">'\n",
    "matches = re.findall(pattern, html_content)\n",
    "profile_urls = [url for url in matches]\n",
    "profile_urls"
   ]
  },
  {
   "cell_type": "markdown",
   "id": "633e5c6f",
   "metadata": {
    "id": "633e5c6f"
   },
   "source": [
    "### 3.B.) Webcrawl the links from A and use RegEx to get all the emails and phone numbers of ladder faculty profiles"
   ]
  },
  {
   "cell_type": "code",
   "execution_count": null,
   "id": "4fa6625b",
   "metadata": {
    "colab": {
     "base_uri": "https://localhost:8080/",
     "height": 1000
    },
    "id": "4fa6625b",
    "outputId": "ae3b3492-13cb-4758-a516-cfb1150503d7"
   },
   "outputs": [
    {
     "data": {
      "text/html": [
       "\n",
       "  <div id=\"df-3bfa7ab7-cb1d-4585-88d9-4774ad58f531\">\n",
       "    <div class=\"colab-df-container\">\n",
       "      <div>\n",
       "<style scoped>\n",
       "    .dataframe tbody tr th:only-of-type {\n",
       "        vertical-align: middle;\n",
       "    }\n",
       "\n",
       "    .dataframe tbody tr th {\n",
       "        vertical-align: top;\n",
       "    }\n",
       "\n",
       "    .dataframe thead th {\n",
       "        text-align: right;\n",
       "    }\n",
       "</style>\n",
       "<table border=\"1\" class=\"dataframe\">\n",
       "  <thead>\n",
       "    <tr style=\"text-align: right;\">\n",
       "      <th></th>\n",
       "      <th>Email ID</th>\n",
       "      <th>Phone Numbers</th>\n",
       "    </tr>\n",
       "  </thead>\n",
       "  <tbody>\n",
       "    <tr>\n",
       "      <th>0</th>\n",
       "      <td>johnasker@econ.ucla.edu</td>\n",
       "      <td>None</td>\n",
       "    </tr>\n",
       "    <tr>\n",
       "      <th>1</th>\n",
       "      <td>andy@atkeson.net</td>\n",
       "      <td>310-869-0742</td>\n",
       "    </tr>\n",
       "    <tr>\n",
       "      <th>2</th>\n",
       "      <td>marthabailey@ucla.edu</td>\n",
       "      <td>None</td>\n",
       "    </tr>\n",
       "    <tr>\n",
       "      <th>3</th>\n",
       "      <td>baqaee@econ.ucla.edu</td>\n",
       "      <td>None</td>\n",
       "    </tr>\n",
       "    <tr>\n",
       "      <th>4</th>\n",
       "      <td>nbau@g.ucla.edu</td>\n",
       "      <td>None</td>\n",
       "    </tr>\n",
       "    <tr>\n",
       "      <th>5</th>\n",
       "      <td>sbigio@econ.ucla.edu</td>\n",
       "      <td>(310) 825-9397</td>\n",
       "    </tr>\n",
       "    <tr>\n",
       "      <th>6</th>\n",
       "      <td>abloedel@econ.ucla.edu</td>\n",
       "      <td>None</td>\n",
       "    </tr>\n",
       "    <tr>\n",
       "      <th>7</th>\n",
       "      <td>sboard@econ.ucla.edu</td>\n",
       "      <td>(310) 825-5304</td>\n",
       "    </tr>\n",
       "    <tr>\n",
       "      <th>8</th>\n",
       "      <td>arielb@econ.ucla.edu</td>\n",
       "      <td>(310) 206-6732</td>\n",
       "    </tr>\n",
       "    <tr>\n",
       "      <th>9</th>\n",
       "      <td>chetverikov@econ.ucla.edu</td>\n",
       "      <td>(310) 825-4521</td>\n",
       "    </tr>\n",
       "    <tr>\n",
       "      <th>10</th>\n",
       "      <td>costa@econ.ucla.edu</td>\n",
       "      <td>(310) 825-4249</td>\n",
       "    </tr>\n",
       "    <tr>\n",
       "      <th>11</th>\n",
       "      <td>pfajgelbaum@econ.ucla.edu</td>\n",
       "      <td>(310) 794-7241</td>\n",
       "    </tr>\n",
       "    <tr>\n",
       "      <th>12</th>\n",
       "      <td>fgeerolf@econ.ucla.edu</td>\n",
       "      <td>(310) 794-5342</td>\n",
       "    </tr>\n",
       "    <tr>\n",
       "      <th>13</th>\n",
       "      <td>mgiorcelli@econ.ucla.edu</td>\n",
       "      <td>(310) 825-1011</td>\n",
       "    </tr>\n",
       "    <tr>\n",
       "      <th>14</th>\n",
       "      <td>fgoncalves@econ.ucla.edu</td>\n",
       "      <td>None</td>\n",
       "    </tr>\n",
       "    <tr>\n",
       "      <th>15</th>\n",
       "      <td>haanwinckel@econ.ucla.edu</td>\n",
       "      <td>None</td>\n",
       "    </tr>\n",
       "    <tr>\n",
       "      <th>16</th>\n",
       "      <td>hackmann@econ.ucla.edu</td>\n",
       "      <td>(310) 825-1011</td>\n",
       "    </tr>\n",
       "    <tr>\n",
       "      <th>17</th>\n",
       "      <td>hahn@econ.ucla.edu</td>\n",
       "      <td>(310) 825-2523</td>\n",
       "    </tr>\n",
       "    <tr>\n",
       "      <th>18</th>\n",
       "      <td>ghansen@econ.ucla.edu</td>\n",
       "      <td>(310) 825-3847</td>\n",
       "    </tr>\n",
       "    <tr>\n",
       "      <th>19</th>\n",
       "      <td>hopen@econ.ucla.edu</td>\n",
       "      <td>(310) 206-8896</td>\n",
       "    </tr>\n",
       "    <tr>\n",
       "      <th>20</th>\n",
       "      <td>itskhoki@econ.ucla.edu</td>\n",
       "      <td>None</td>\n",
       "    </tr>\n",
       "    <tr>\n",
       "      <th>21</th>\n",
       "      <td>zhipeng.liao@econ.ucla.edu</td>\n",
       "      <td>(310) 794-5427</td>\n",
       "    </tr>\n",
       "    <tr>\n",
       "      <th>22</th>\n",
       "      <td>alleras@econ.ucla.edu</td>\n",
       "      <td>(310) 825-3925</td>\n",
       "    </tr>\n",
       "    <tr>\n",
       "      <th>23</th>\n",
       "      <td>j.londonovelez@econ.ucla.edu</td>\n",
       "      <td>None</td>\n",
       "    </tr>\n",
       "    <tr>\n",
       "      <th>24</th>\n",
       "      <td>jay@econ.ucla.edu</td>\n",
       "      <td>(310) 825-7380</td>\n",
       "    </tr>\n",
       "    <tr>\n",
       "      <th>25</th>\n",
       "      <td>matzkin@econ.ucla.edu</td>\n",
       "      <td>(310) 825-7371</td>\n",
       "    </tr>\n",
       "    <tr>\n",
       "      <th>26</th>\n",
       "      <td>mmazzocc@econ.ucla.edu</td>\n",
       "      <td>(310) 825-6682</td>\n",
       "    </tr>\n",
       "    <tr>\n",
       "      <th>27</th>\n",
       "      <td>mcgarry@ucla.edu</td>\n",
       "      <td>(310) 825-1011</td>\n",
       "    </tr>\n",
       "    <tr>\n",
       "      <th>28</th>\n",
       "      <td>mtv@econ.ucla.edu</td>\n",
       "      <td>None</td>\n",
       "    </tr>\n",
       "    <tr>\n",
       "      <th>29</th>\n",
       "      <td>iobara@econ.ucla.edu</td>\n",
       "      <td>(310) 794-7098</td>\n",
       "    </tr>\n",
       "    <tr>\n",
       "      <th>30</th>\n",
       "      <td>ohanian@econ.ucla.edu</td>\n",
       "      <td>(310) 825-0979</td>\n",
       "    </tr>\n",
       "    <tr>\n",
       "      <th>31</th>\n",
       "      <td>ozler@econ.ucla.edu</td>\n",
       "      <td>(310) 206-6031</td>\n",
       "    </tr>\n",
       "    <tr>\n",
       "      <th>32</th>\n",
       "      <td>rodrig@econ.ucla.edu</td>\n",
       "      <td>(310) 825-0849</td>\n",
       "    </tr>\n",
       "    <tr>\n",
       "      <th>33</th>\n",
       "      <td>rafey@econ.ucla.edu</td>\n",
       "      <td>None</td>\n",
       "    </tr>\n",
       "    <tr>\n",
       "      <th>34</th>\n",
       "      <td>None</td>\n",
       "      <td>None</td>\n",
       "    </tr>\n",
       "    <tr>\n",
       "      <th>35</th>\n",
       "      <td>tsadzik@econ.ucla.edu</td>\n",
       "      <td>(310) 206-2833</td>\n",
       "    </tr>\n",
       "    <tr>\n",
       "      <th>36</th>\n",
       "      <td>andres@econ.ucla.edu</td>\n",
       "      <td>None</td>\n",
       "    </tr>\n",
       "    <tr>\n",
       "      <th>37</th>\n",
       "      <td>shemtov@econ.ucla.edu</td>\n",
       "      <td>None</td>\n",
       "    </tr>\n",
       "    <tr>\n",
       "      <th>38</th>\n",
       "      <td>ssheng@econ.ucla.edu</td>\n",
       "      <td>(310) 825-8018</td>\n",
       "    </tr>\n",
       "    <tr>\n",
       "      <th>39</th>\n",
       "      <td>silveira@econ.ucla.edu</td>\n",
       "      <td>None</td>\n",
       "    </tr>\n",
       "    <tr>\n",
       "      <th>40</th>\n",
       "      <td>tornell@econ.ucla.edu</td>\n",
       "      <td>(310) 794-1686</td>\n",
       "    </tr>\n",
       "    <tr>\n",
       "      <th>41</th>\n",
       "      <td>jvogel@econ.ucla.edu</td>\n",
       "      <td>None</td>\n",
       "    </tr>\n",
       "    <tr>\n",
       "      <th>42</th>\n",
       "      <td>tvwachter@econ.ucla.edu</td>\n",
       "      <td>(310) 825-5665</td>\n",
       "    </tr>\n",
       "    <tr>\n",
       "      <th>43</th>\n",
       "      <td>poweill@econ.ucla.edu</td>\n",
       "      <td>(310) 794-6495</td>\n",
       "    </tr>\n",
       "    <tr>\n",
       "      <th>44</th>\n",
       "      <td>zame@econ.ucla.edu</td>\n",
       "      <td>(310) 206-9463</td>\n",
       "    </tr>\n",
       "  </tbody>\n",
       "</table>\n",
       "</div>\n",
       "      <button class=\"colab-df-convert\" onclick=\"convertToInteractive('df-3bfa7ab7-cb1d-4585-88d9-4774ad58f531')\"\n",
       "              title=\"Convert this dataframe to an interactive table.\"\n",
       "              style=\"display:none;\">\n",
       "        \n",
       "  <svg xmlns=\"http://www.w3.org/2000/svg\" height=\"24px\"viewBox=\"0 0 24 24\"\n",
       "       width=\"24px\">\n",
       "    <path d=\"M0 0h24v24H0V0z\" fill=\"none\"/>\n",
       "    <path d=\"M18.56 5.44l.94 2.06.94-2.06 2.06-.94-2.06-.94-.94-2.06-.94 2.06-2.06.94zm-11 1L8.5 8.5l.94-2.06 2.06-.94-2.06-.94L8.5 2.5l-.94 2.06-2.06.94zm10 10l.94 2.06.94-2.06 2.06-.94-2.06-.94-.94-2.06-.94 2.06-2.06.94z\"/><path d=\"M17.41 7.96l-1.37-1.37c-.4-.4-.92-.59-1.43-.59-.52 0-1.04.2-1.43.59L10.3 9.45l-7.72 7.72c-.78.78-.78 2.05 0 2.83L4 21.41c.39.39.9.59 1.41.59.51 0 1.02-.2 1.41-.59l7.78-7.78 2.81-2.81c.8-.78.8-2.07 0-2.86zM5.41 20L4 18.59l7.72-7.72 1.47 1.35L5.41 20z\"/>\n",
       "  </svg>\n",
       "      </button>\n",
       "      \n",
       "  <style>\n",
       "    .colab-df-container {\n",
       "      display:flex;\n",
       "      flex-wrap:wrap;\n",
       "      gap: 12px;\n",
       "    }\n",
       "\n",
       "    .colab-df-convert {\n",
       "      background-color: #E8F0FE;\n",
       "      border: none;\n",
       "      border-radius: 50%;\n",
       "      cursor: pointer;\n",
       "      display: none;\n",
       "      fill: #1967D2;\n",
       "      height: 32px;\n",
       "      padding: 0 0 0 0;\n",
       "      width: 32px;\n",
       "    }\n",
       "\n",
       "    .colab-df-convert:hover {\n",
       "      background-color: #E2EBFA;\n",
       "      box-shadow: 0px 1px 2px rgba(60, 64, 67, 0.3), 0px 1px 3px 1px rgba(60, 64, 67, 0.15);\n",
       "      fill: #174EA6;\n",
       "    }\n",
       "\n",
       "    [theme=dark] .colab-df-convert {\n",
       "      background-color: #3B4455;\n",
       "      fill: #D2E3FC;\n",
       "    }\n",
       "\n",
       "    [theme=dark] .colab-df-convert:hover {\n",
       "      background-color: #434B5C;\n",
       "      box-shadow: 0px 1px 3px 1px rgba(0, 0, 0, 0.15);\n",
       "      filter: drop-shadow(0px 1px 2px rgba(0, 0, 0, 0.3));\n",
       "      fill: #FFFFFF;\n",
       "    }\n",
       "  </style>\n",
       "\n",
       "      <script>\n",
       "        const buttonEl =\n",
       "          document.querySelector('#df-3bfa7ab7-cb1d-4585-88d9-4774ad58f531 button.colab-df-convert');\n",
       "        buttonEl.style.display =\n",
       "          google.colab.kernel.accessAllowed ? 'block' : 'none';\n",
       "\n",
       "        async function convertToInteractive(key) {\n",
       "          const element = document.querySelector('#df-3bfa7ab7-cb1d-4585-88d9-4774ad58f531');\n",
       "          const dataTable =\n",
       "            await google.colab.kernel.invokeFunction('convertToInteractive',\n",
       "                                                     [key], {});\n",
       "          if (!dataTable) return;\n",
       "\n",
       "          const docLinkHtml = 'Like what you see? Visit the ' +\n",
       "            '<a target=\"_blank\" href=https://colab.research.google.com/notebooks/data_table.ipynb>data table notebook</a>'\n",
       "            + ' to learn more about interactive tables.';\n",
       "          element.innerHTML = '';\n",
       "          dataTable['output_type'] = 'display_data';\n",
       "          await google.colab.output.renderOutput(dataTable, element);\n",
       "          const docLink = document.createElement('div');\n",
       "          docLink.innerHTML = docLinkHtml;\n",
       "          element.appendChild(docLink);\n",
       "        }\n",
       "      </script>\n",
       "    </div>\n",
       "  </div>\n",
       "  "
      ],
      "text/plain": [
       "                        Email ID   Phone Numbers\n",
       "0        johnasker@econ.ucla.edu            None\n",
       "1               andy@atkeson.net    310-869-0742\n",
       "2          marthabailey@ucla.edu            None\n",
       "3           baqaee@econ.ucla.edu            None\n",
       "4                nbau@g.ucla.edu            None\n",
       "5           sbigio@econ.ucla.edu  (310) 825-9397\n",
       "6         abloedel@econ.ucla.edu            None\n",
       "7           sboard@econ.ucla.edu  (310) 825-5304\n",
       "8           arielb@econ.ucla.edu  (310) 206-6732\n",
       "9      chetverikov@econ.ucla.edu  (310) 825-4521\n",
       "10           costa@econ.ucla.edu  (310) 825-4249\n",
       "11     pfajgelbaum@econ.ucla.edu  (310) 794-7241\n",
       "12        fgeerolf@econ.ucla.edu  (310) 794-5342\n",
       "13      mgiorcelli@econ.ucla.edu  (310) 825-1011\n",
       "14      fgoncalves@econ.ucla.edu            None\n",
       "15     haanwinckel@econ.ucla.edu            None\n",
       "16        hackmann@econ.ucla.edu  (310) 825-1011\n",
       "17            hahn@econ.ucla.edu  (310) 825-2523\n",
       "18         ghansen@econ.ucla.edu  (310) 825-3847\n",
       "19           hopen@econ.ucla.edu  (310) 206-8896\n",
       "20        itskhoki@econ.ucla.edu            None\n",
       "21    zhipeng.liao@econ.ucla.edu  (310) 794-5427\n",
       "22         alleras@econ.ucla.edu  (310) 825-3925\n",
       "23  j.londonovelez@econ.ucla.edu            None\n",
       "24             jay@econ.ucla.edu  (310) 825-7380\n",
       "25         matzkin@econ.ucla.edu  (310) 825-7371\n",
       "26        mmazzocc@econ.ucla.edu  (310) 825-6682\n",
       "27              mcgarry@ucla.edu  (310) 825-1011\n",
       "28             mtv@econ.ucla.edu            None\n",
       "29          iobara@econ.ucla.edu  (310) 794-7098\n",
       "30         ohanian@econ.ucla.edu  (310) 825-0979\n",
       "31           ozler@econ.ucla.edu  (310) 206-6031\n",
       "32          rodrig@econ.ucla.edu  (310) 825-0849\n",
       "33           rafey@econ.ucla.edu            None\n",
       "34                          None            None\n",
       "35         tsadzik@econ.ucla.edu  (310) 206-2833\n",
       "36          andres@econ.ucla.edu            None\n",
       "37         shemtov@econ.ucla.edu            None\n",
       "38          ssheng@econ.ucla.edu  (310) 825-8018\n",
       "39        silveira@econ.ucla.edu            None\n",
       "40         tornell@econ.ucla.edu  (310) 794-1686\n",
       "41          jvogel@econ.ucla.edu            None\n",
       "42       tvwachter@econ.ucla.edu  (310) 825-5665\n",
       "43         poweill@econ.ucla.edu  (310) 794-6495\n",
       "44            zame@econ.ucla.edu  (310) 206-9463"
      ]
     },
     "execution_count": 5,
     "metadata": {},
     "output_type": "execute_result"
    }
   ],
   "source": [
    "emails_list = []\n",
    "phone_list = []\n",
    "\n",
    "#Looping through all profile URLs\n",
    "for url in profile_urls:\n",
    "    url = url\n",
    "    response = requests.get(url)\n",
    "    html_content = response.text\n",
    "    \n",
    "    # Email Regex pattern\n",
    "    email_pattern = re.compile(r'title=\"([a-zA-Z0-9._%+-]+@[a-zA-Z0-9.-]+\\.[a-zA-Z]{2,})\"')\n",
    "    emails = email_pattern.finditer(html_content)\n",
    "    # Using .group(1) to get required email (and discard extraneous emails with similar format)\n",
    "    email = [email.group(1) for email in emails]\n",
    "    emails_list.append(email)\n",
    "    \n",
    "    # Phone Regex pattern\n",
    "    phone_pattern = re.compile(r\"\\(?\\d{3}[-\\.\\)] *\\d{3}[-\\.] *\\d{4}\")\n",
    "    nums = phone_pattern.finditer(html_content)\n",
    "    # Using .group(0) to get just the phone number from .finditer output\n",
    "    num = [num.group(0) for num in nums]\n",
    "    phone_list.append(num)\n",
    "    \n",
    "# Creating a dataframe with all the info\n",
    "faculty_df = pd.DataFrame({\"Email ID\": emails_list, \"Phone Numbers\": phone_list})\n",
    "faculty_df = faculty_df.applymap(lambda x: x[0] if len(x) > 0 else None)\n",
    "faculty_df"
   ]
  },
  {
   "cell_type": "markdown",
   "id": "effefb68",
   "metadata": {
    "id": "effefb68"
   },
   "source": [
    "## 4.) Selenium"
   ]
  },
  {
   "cell_type": "markdown",
   "id": "9d571a9c",
   "metadata": {
    "id": "9d571a9c"
   },
   "source": [
    "### 4.A.) Pick a website that has useful data to a business or economic question. "
   ]
  },
  {
   "cell_type": "code",
   "execution_count": 34,
   "id": "f0c78096",
   "metadata": {
    "id": "f0c78096"
   },
   "outputs": [],
   "source": [
    "URL = \"https://kayak.com/\""
   ]
  },
  {
   "cell_type": "markdown",
   "id": "73399b19",
   "metadata": {
    "id": "73399b19"
   },
   "source": [
    "### 4.B.) Use Selenium to scrape valuable information from the website and store in a dataframe."
   ]
  },
  {
   "cell_type": "code",
   "execution_count": 35,
   "id": "qvX2sUTmLBVH",
   "metadata": {
    "id": "qvX2sUTmLBVH"
   },
   "outputs": [],
   "source": [
    "import selenium\n",
    "from selenium import webdriver\n",
    "from selenium.webdriver.common.keys import Keys\n",
    "from selenium.webdriver.support.ui import WebDriverWait\n",
    "from selenium.webdriver.support import expected_conditions as EC\n",
    "import time as t"
   ]
  },
  {
   "cell_type": "code",
   "execution_count": 39,
   "id": "0K-UcZ4lIriV",
   "metadata": {
    "id": "0K-UcZ4lIriV"
   },
   "outputs": [],
   "source": [
    "def kayak_setup():\n",
    "    driver = webdriver.Chrome(\"/Users/mallikachandra/Downloads/chromedriver\")\n",
    "    driver.get(\"https://kayak.com/\")\n",
    "    return driver"
   ]
  },
  {
   "cell_type": "code",
   "execution_count": null,
   "id": "0c1f48e5",
   "metadata": {},
   "outputs": [],
   "source": [
    "PATH = \"/Users/mallikachandra/Downloads/chromedriver\""
   ]
  },
  {
   "cell_type": "code",
   "execution_count": 40,
   "id": "X5M6Z568IsP9",
   "metadata": {
    "id": "X5M6Z568IsP9"
   },
   "outputs": [],
   "source": [
    "def kayak_info_date(depart_location, arrival_location, departure_date, arrival_date):\n",
    "    #Set up kayak driver\n",
    "    driver = kayak_setup()\n",
    "\n",
    "    #Find the search bar and enter the locations\n",
    "    loc_search = driver.find_elements(\"css selector\", 'input.k_my-input')\n",
    "    #Arrival location\n",
    "    loc_search[0].send_keys(Keys.BACKSPACE)\n",
    "    loc_search[0].send_keys(Keys.BACKSPACE)\n",
    "    loc_search[0].send_keys(depart_location)\n",
    "    t.sleep(3)\n",
    "    loc_search[0].send_keys(Keys.RETURN)\n",
    "    #Departure location\n",
    "    loc_search[1].send_keys(Keys.BACKSPACE)\n",
    "    loc_search[1].send_keys(Keys.BACKSPACE)\n",
    "    loc_search[1].send_keys(arrival_location)\n",
    "    t.sleep(3)\n",
    "    loc_search[1].send_keys(Keys.RETURN)\n",
    "\n",
    "    #Find the search button and click it\n",
    "    original_window = driver.current_window_handle\n",
    "    assert len(driver.window_handles) == 1\n",
    "    search = driver.find_element(\"css selector\",\"button.Iqt3.Iqt3-mod-bold.Button-No-Standard-Style.Iqt3-mod-variant-solid.Iqt3-mod-theme-progress.Iqt3-mod-shape-rounded-medium.Iqt3-mod-shape-mod-default.Iqt3-mod-spacing-default.Iqt3-mod-size-large.Iqt3-mod-animation-search\")\n",
    "    search.send_keys(Keys.RETURN)\n",
    "    t.sleep(3)\n",
    "\n",
    "    #Switch to the new window\n",
    "    for window_handle in driver.window_handles:\n",
    "        if window_handle != original_window:\n",
    "            driver.switch_to.window(window_handle)\n",
    "            break\n",
    "    \n",
    "    #Enter the dates of travel\n",
    "    t.sleep(10)\n",
    "    url = driver.current_url\n",
    "    url_new = url[:38] + departure_date + \"/\" + arrival_date\n",
    "    t.sleep(5)\n",
    "    driver.get(url_new)\n",
    "    t.sleep(5)\n",
    "    \n",
    "    #Find the cheap flights button and click it\n",
    "    cheap = driver.find_element(\"css selector\",\"div.Hv20-option\")\n",
    "    cheap.send_keys(Keys.RETURN)\n",
    "\n",
    "    #Find the times of the flights and create a dataframe\n",
    "    t.sleep(5)\n",
    "    times = driver.find_elements(\"css selector\",\"div.vmXl.vmXl-mod-variant-large\")\n",
    "    times_full = []\n",
    "    t.sleep(5)\n",
    "    for time in times:\n",
    "        value = time.text\n",
    "        times_full.append(value)\n",
    "    outgoing_time = times_full[::2]\n",
    "    incoming_time = times_full[1::2]  \n",
    "    df_full = pd.DataFrame(list(zip(outgoing_time, incoming_time)), columns =['Outgoing Time', 'Incoming Time'])\n",
    "\n",
    "    #Find the airlines of the flights and add it to the dataframe\n",
    "    airlines = driver.find_elements(\"css selector\",\"div.c_cgF.c_cgF-mod-variant-default\")\n",
    "    airlines_full = []\n",
    "    for airline in airlines:\n",
    "        value = airline.text\n",
    "        airlines_full.append(value)  \n",
    "    outgoing_airline = airlines_full[::10]\n",
    "    incoming_airline = airlines_full[5::10]\n",
    "    df_full[\"Outgoing Airline\"] = outgoing_airline\n",
    "    df_full[\"Incoming Airline\"] = incoming_airline\n",
    "\n",
    "    #Find the stops of the flights and add it to the dataframe\n",
    "    stops = driver.find_elements(\"css selector\",\"span.JWEO-stops-text\")\n",
    "    stops_full = []\n",
    "    for stop in stops:\n",
    "        value = stop.text\n",
    "        stops_full.append(value)\n",
    "\n",
    "    outgoing_stops = stops_full[::2]\n",
    "    incoming_stops = stops_full[1::2]\n",
    "\n",
    "    df_full[\"Outgoing Stops\"] = outgoing_stops\n",
    "    df_full[\"Incoming Stops\"] = incoming_stops\n",
    "\n",
    "    #Find the duration of the flights and add it to the dataframe\n",
    "    lengths = driver.find_elements(\"css selector\",\"div.vmXl.vmXl-mod-variant-default\")\n",
    "    lengths_full = []\n",
    "    for length in lengths:\n",
    "        value = length.text\n",
    "        lengths_full.append(value)\n",
    "    \n",
    "    lengths_full = lengths_full[1::2]\n",
    "    outgoing_lengths = lengths_full[::2]\n",
    "    incoming_lengths = lengths_full[1::2]\n",
    "\n",
    "    df_full[\"Outgoing Length\"] = outgoing_lengths\n",
    "    df_full[\"Incoming Length\"] = incoming_lengths\n",
    "\n",
    "    #Find the prices of the flights and add it to the dataframe\n",
    "    prices = driver.find_elements(\"css selector\",\"div.f8F1-price-text\")\n",
    "    lowest_prices = []\n",
    "    for price in prices:\n",
    "        value = price.text\n",
    "        lowest_prices.append(value)\n",
    "    df_full[\"price\"] = lowest_prices\n",
    "\n",
    "    #Display the dataframe\n",
    "    display(df_full)\n",
    "    return driver"
   ]
  },
  {
   "cell_type": "code",
   "execution_count": 41,
   "id": "KQiD6pbdKUbS",
   "metadata": {
    "colab": {
     "base_uri": "https://localhost:8080/",
     "height": 675
    },
    "id": "KQiD6pbdKUbS",
    "outputId": "0bc7dba8-544b-47e4-d998-ef5b610c5285"
   },
   "outputs": [
    {
     "name": "stderr",
     "output_type": "stream",
     "text": [
      "/var/folders/32/6tv1kbfx7jn9vst5h14cqq4r0000gn/T/ipykernel_97803/1387343024.py:2: DeprecationWarning: executable_path has been deprecated, please pass in a Service object\n",
      "  driver = webdriver.Chrome(\"/Users/mallikachandra/Downloads/chromedriver\")\n"
     ]
    },
    {
     "data": {
      "text/html": [
       "<div>\n",
       "<style scoped>\n",
       "    .dataframe tbody tr th:only-of-type {\n",
       "        vertical-align: middle;\n",
       "    }\n",
       "\n",
       "    .dataframe tbody tr th {\n",
       "        vertical-align: top;\n",
       "    }\n",
       "\n",
       "    .dataframe thead th {\n",
       "        text-align: right;\n",
       "    }\n",
       "</style>\n",
       "<table border=\"1\" class=\"dataframe\">\n",
       "  <thead>\n",
       "    <tr style=\"text-align: right;\">\n",
       "      <th></th>\n",
       "      <th>Outgoing Time</th>\n",
       "      <th>Incoming Time</th>\n",
       "      <th>Outgoing Airline</th>\n",
       "      <th>Incoming Airline</th>\n",
       "      <th>Outgoing Stops</th>\n",
       "      <th>Incoming Stops</th>\n",
       "      <th>Outgoing Length</th>\n",
       "      <th>Incoming Length</th>\n",
       "      <th>price</th>\n",
       "    </tr>\n",
       "  </thead>\n",
       "  <tbody>\n",
       "    <tr>\n",
       "      <th>0</th>\n",
       "      <td>6:00 am–11:31 am</td>\n",
       "      <td>6:10 am–1:41 pm</td>\n",
       "      <td>Spirit Airlines</td>\n",
       "      <td>Spirit Airlines</td>\n",
       "      <td>1 stop</td>\n",
       "      <td>nonstop</td>\n",
       "      <td>8h 31m</td>\n",
       "      <td>4h 31m</td>\n",
       "      <td>$286</td>\n",
       "    </tr>\n",
       "    <tr>\n",
       "      <th>1</th>\n",
       "      <td>6:00 am–11:31 am</td>\n",
       "      <td>11:49 am–7:21 pm</td>\n",
       "      <td>Spirit Airlines</td>\n",
       "      <td>Spirit Airlines</td>\n",
       "      <td>1 stop</td>\n",
       "      <td>nonstop</td>\n",
       "      <td>8h 31m</td>\n",
       "      <td>4h 32m</td>\n",
       "      <td>$286</td>\n",
       "    </tr>\n",
       "    <tr>\n",
       "      <th>2</th>\n",
       "      <td>9:14 pm–7:01 am+1</td>\n",
       "      <td>6:00 am–8:21 pm</td>\n",
       "      <td>Frontier</td>\n",
       "      <td>Frontier</td>\n",
       "      <td>1 stop</td>\n",
       "      <td>1 stop</td>\n",
       "      <td>12h 47m</td>\n",
       "      <td>11h 21m</td>\n",
       "      <td>$288</td>\n",
       "    </tr>\n",
       "    <tr>\n",
       "      <th>3</th>\n",
       "      <td>7:00 am–12:06 pm</td>\n",
       "      <td>11:00 am–9:54 pm</td>\n",
       "      <td>Frontier</td>\n",
       "      <td>Frontier</td>\n",
       "      <td>1 stop</td>\n",
       "      <td>1 stop</td>\n",
       "      <td>8h 06m</td>\n",
       "      <td>7h 54m</td>\n",
       "      <td>$299</td>\n",
       "    </tr>\n",
       "    <tr>\n",
       "      <th>4</th>\n",
       "      <td>7:00 am–12:06 pm</td>\n",
       "      <td>6:00 am–5:02 pm</td>\n",
       "      <td>Frontier</td>\n",
       "      <td>Frontier</td>\n",
       "      <td>1 stop</td>\n",
       "      <td>1 stop</td>\n",
       "      <td>8h 06m</td>\n",
       "      <td>8h 02m</td>\n",
       "      <td>$299</td>\n",
       "    </tr>\n",
       "    <tr>\n",
       "      <th>5</th>\n",
       "      <td>1:41 pm–7:03 pm</td>\n",
       "      <td>11:00 am–9:54 pm</td>\n",
       "      <td>Frontier</td>\n",
       "      <td>Frontier</td>\n",
       "      <td>1 stop</td>\n",
       "      <td>1 stop</td>\n",
       "      <td>8h 22m</td>\n",
       "      <td>7h 54m</td>\n",
       "      <td>$299</td>\n",
       "    </tr>\n",
       "    <tr>\n",
       "      <th>6</th>\n",
       "      <td>1:41 pm–7:03 pm</td>\n",
       "      <td>6:00 am–5:02 pm</td>\n",
       "      <td>Frontier</td>\n",
       "      <td>Frontier</td>\n",
       "      <td>1 stop</td>\n",
       "      <td>1 stop</td>\n",
       "      <td>8h 22m</td>\n",
       "      <td>8h 02m</td>\n",
       "      <td>$299</td>\n",
       "    </tr>\n",
       "    <tr>\n",
       "      <th>7</th>\n",
       "      <td>6:01 pm–12:07 am+1</td>\n",
       "      <td>11:00 am–9:54 pm</td>\n",
       "      <td>Frontier</td>\n",
       "      <td>Frontier</td>\n",
       "      <td>1 stop</td>\n",
       "      <td>1 stop</td>\n",
       "      <td>9h 06m</td>\n",
       "      <td>7h 54m</td>\n",
       "      <td>$299</td>\n",
       "    </tr>\n",
       "    <tr>\n",
       "      <th>8</th>\n",
       "      <td>6:01 pm–12:07 am+1</td>\n",
       "      <td>6:00 am–5:02 pm</td>\n",
       "      <td>Frontier</td>\n",
       "      <td>Frontier</td>\n",
       "      <td>1 stop</td>\n",
       "      <td>1 stop</td>\n",
       "      <td>9h 06m</td>\n",
       "      <td>8h 02m</td>\n",
       "      <td>$299</td>\n",
       "    </tr>\n",
       "    <tr>\n",
       "      <th>9</th>\n",
       "      <td>7:00 am–12:06 pm</td>\n",
       "      <td>9:36 pm–12:48 pm+1</td>\n",
       "      <td>Frontier</td>\n",
       "      <td>Frontier</td>\n",
       "      <td>1 stop</td>\n",
       "      <td>1 stop</td>\n",
       "      <td>8h 06m</td>\n",
       "      <td>12h 12m</td>\n",
       "      <td>$299</td>\n",
       "    </tr>\n",
       "    <tr>\n",
       "      <th>10</th>\n",
       "      <td>1:41 pm–7:03 pm</td>\n",
       "      <td>9:36 pm–12:48 pm+1</td>\n",
       "      <td>Frontier</td>\n",
       "      <td>Frontier</td>\n",
       "      <td>1 stop</td>\n",
       "      <td>1 stop</td>\n",
       "      <td>8h 22m</td>\n",
       "      <td>12h 12m</td>\n",
       "      <td>$299</td>\n",
       "    </tr>\n",
       "    <tr>\n",
       "      <th>11</th>\n",
       "      <td>7:00 am–12:06 pm</td>\n",
       "      <td>6:00 am–9:54 pm</td>\n",
       "      <td>Frontier</td>\n",
       "      <td>Frontier</td>\n",
       "      <td>1 stop</td>\n",
       "      <td>1 stop</td>\n",
       "      <td>8h 06m</td>\n",
       "      <td>12h 54m</td>\n",
       "      <td>$299</td>\n",
       "    </tr>\n",
       "    <tr>\n",
       "      <th>12</th>\n",
       "      <td>1:41 pm–7:03 pm</td>\n",
       "      <td>6:00 am–9:54 pm</td>\n",
       "      <td>Frontier</td>\n",
       "      <td>Frontier</td>\n",
       "      <td>1 stop</td>\n",
       "      <td>1 stop</td>\n",
       "      <td>8h 22m</td>\n",
       "      <td>12h 54m</td>\n",
       "      <td>$299</td>\n",
       "    </tr>\n",
       "    <tr>\n",
       "      <th>13</th>\n",
       "      <td>6:01 pm–12:07 am+1</td>\n",
       "      <td>9:36 pm–12:48 pm+1</td>\n",
       "      <td>Frontier</td>\n",
       "      <td>Frontier</td>\n",
       "      <td>1 stop</td>\n",
       "      <td>1 stop</td>\n",
       "      <td>9h 06m</td>\n",
       "      <td>12h 12m</td>\n",
       "      <td>$299</td>\n",
       "    </tr>\n",
       "    <tr>\n",
       "      <th>14</th>\n",
       "      <td>1:41 pm–12:07 am+1</td>\n",
       "      <td>11:00 am–9:54 pm</td>\n",
       "      <td>Frontier</td>\n",
       "      <td>Frontier</td>\n",
       "      <td>1 stop</td>\n",
       "      <td>1 stop</td>\n",
       "      <td>13h 26m</td>\n",
       "      <td>7h 54m</td>\n",
       "      <td>$299</td>\n",
       "    </tr>\n",
       "  </tbody>\n",
       "</table>\n",
       "</div>"
      ],
      "text/plain": [
       "         Outgoing Time       Incoming Time Outgoing Airline Incoming Airline  \\\n",
       "0     6:00 am–11:31 am     6:10 am–1:41 pm  Spirit Airlines  Spirit Airlines   \n",
       "1     6:00 am–11:31 am    11:49 am–7:21 pm  Spirit Airlines  Spirit Airlines   \n",
       "2    9:14 pm–7:01 am+1     6:00 am–8:21 pm         Frontier         Frontier   \n",
       "3     7:00 am–12:06 pm    11:00 am–9:54 pm         Frontier         Frontier   \n",
       "4     7:00 am–12:06 pm     6:00 am–5:02 pm         Frontier         Frontier   \n",
       "5      1:41 pm–7:03 pm    11:00 am–9:54 pm         Frontier         Frontier   \n",
       "6      1:41 pm–7:03 pm     6:00 am–5:02 pm         Frontier         Frontier   \n",
       "7   6:01 pm–12:07 am+1    11:00 am–9:54 pm         Frontier         Frontier   \n",
       "8   6:01 pm–12:07 am+1     6:00 am–5:02 pm         Frontier         Frontier   \n",
       "9     7:00 am–12:06 pm  9:36 pm–12:48 pm+1         Frontier         Frontier   \n",
       "10     1:41 pm–7:03 pm  9:36 pm–12:48 pm+1         Frontier         Frontier   \n",
       "11    7:00 am–12:06 pm     6:00 am–9:54 pm         Frontier         Frontier   \n",
       "12     1:41 pm–7:03 pm     6:00 am–9:54 pm         Frontier         Frontier   \n",
       "13  6:01 pm–12:07 am+1  9:36 pm–12:48 pm+1         Frontier         Frontier   \n",
       "14  1:41 pm–12:07 am+1    11:00 am–9:54 pm         Frontier         Frontier   \n",
       "\n",
       "   Outgoing Stops Incoming Stops Outgoing Length Incoming Length price  \n",
       "0          1 stop        nonstop          8h 31m          4h 31m  $286  \n",
       "1          1 stop        nonstop          8h 31m          4h 32m  $286  \n",
       "2          1 stop         1 stop         12h 47m         11h 21m  $288  \n",
       "3          1 stop         1 stop          8h 06m          7h 54m  $299  \n",
       "4          1 stop         1 stop          8h 06m          8h 02m  $299  \n",
       "5          1 stop         1 stop          8h 22m          7h 54m  $299  \n",
       "6          1 stop         1 stop          8h 22m          8h 02m  $299  \n",
       "7          1 stop         1 stop          9h 06m          7h 54m  $299  \n",
       "8          1 stop         1 stop          9h 06m          8h 02m  $299  \n",
       "9          1 stop         1 stop          8h 06m         12h 12m  $299  \n",
       "10         1 stop         1 stop          8h 22m         12h 12m  $299  \n",
       "11         1 stop         1 stop          8h 06m         12h 54m  $299  \n",
       "12         1 stop         1 stop          8h 22m         12h 54m  $299  \n",
       "13         1 stop         1 stop          9h 06m         12h 12m  $299  \n",
       "14         1 stop         1 stop         13h 26m          7h 54m  $299  "
      ]
     },
     "metadata": {},
     "output_type": "display_data"
    },
    {
     "data": {
      "text/plain": [
       "<selenium.webdriver.chrome.webdriver.WebDriver (session=\"2f59a1428d1d6f42169f26d92648a794\")>"
      ]
     },
     "execution_count": 41,
     "metadata": {},
     "output_type": "execute_result"
    }
   ],
   "source": [
    "# Calling function to get information\n",
    "kayak_info_date(\"Washington, D.C.\", \"Las Vegas, NV\", \"2023-10-24\", \"2023-11-05\")"
   ]
  },
  {
   "cell_type": "markdown",
   "id": "5448ae29",
   "metadata": {
    "id": "5448ae29"
   },
   "source": [
    "### 4.C.) Business value of the above function and the data it scrapes"
   ]
  },
  {
   "cell_type": "markdown",
   "id": "ugq_H4YHz3Y4",
   "metadata": {
    "id": "ugq_H4YHz3Y4"
   },
   "source": [
    "The above is a function that, if provided departure and arrival locations as well as departure and return dates, will return information on round trip flights to and from these locations at the specified dates. For schedulers and planners looking to improve efficiency, this is an extremely valuable tool - rather than having to go on websites and manually enter in the same information over and over again, this function allows you to automate the process and get all the information you need in one place, in a simple table that is easily readable. This function could be used to plan business trips, vacations, or any other travel that requires flights."
   ]
  }
 ],
 "metadata": {
  "colab": {
   "provenance": []
  },
  "kernelspec": {
   "display_name": "Python 3 (ipykernel)",
   "language": "python",
   "name": "python3"
  },
  "language_info": {
   "codemirror_mode": {
    "name": "ipython",
    "version": 3
   },
   "file_extension": ".py",
   "mimetype": "text/x-python",
   "name": "python",
   "nbconvert_exporter": "python",
   "pygments_lexer": "ipython3",
   "version": "3.9.12"
  }
 },
 "nbformat": 4,
 "nbformat_minor": 5
}
